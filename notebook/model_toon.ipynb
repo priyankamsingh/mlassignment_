{
 "cells": [
  {
   "cell_type": "code",
   "execution_count": null,
   "id": "502b5abc-f516-47e9-b714-ff5392e90399",
   "metadata": {},
   "outputs": [],
   "source": [
    "!pip install pandas scikit-learn matplotlib seaborn"
   ]
  },
  {
   "cell_type": "code",
   "execution_count": null,
   "id": "bfe99e80-79cb-4874-b884-4e865944cd5d",
   "metadata": {},
   "outputs": [],
   "source": [
    "import os\n",
    "import pandas as pd\n",
    "\n",
    "os.chdir(\"../data\")\n",
    "df_1 = pd.read_csv('data_set.csv')\n",
    "df_2 = pd.read_csv('column_info.csv')"
   ]
  },
  {
   "cell_type": "code",
   "execution_count": null,
   "id": "724e7140-5a07-49ca-b7ed-97240be3a2ec",
   "metadata": {
    "scrolled": true
   },
   "outputs": [],
   "source": [
    "print(df_1)"
   ]
  },
  {
   "cell_type": "code",
   "execution_count": null,
   "id": "a1e306b7-4155-4d8c-a911-fde8f0a618b5",
   "metadata": {},
   "outputs": [],
   "source": [
    "print(df_2)"
   ]
  },
  {
   "cell_type": "code",
   "execution_count": null,
   "id": "9356eb72-1b2b-441d-bb41-01fceba8e795",
   "metadata": {},
   "outputs": [],
   "source": [
    "# Drop index column\n",
    "df_1 = df_1.drop(['Unnamed: 0'], axis=1)"
   ]
  },
  {
   "cell_type": "code",
   "execution_count": null,
   "id": "8b1a6356-e6d8-4ba4-8204-6f40d3e8db00",
   "metadata": {},
   "outputs": [],
   "source": [
    "# Check datatypes\n",
    "df_1.dtypes"
   ]
  },
  {
   "cell_type": "code",
   "execution_count": null,
   "id": "43595ff8-57e0-414e-a69d-389011ceaecd",
   "metadata": {
    "scrolled": true
   },
   "outputs": [],
   "source": [
    "# Check for missings\n",
    "df_1.isna().sum()"
   ]
  },
  {
   "cell_type": "code",
   "execution_count": null,
   "id": "dd18c149-9fd6-4bd3-aa35-4e8a09c59a2c",
   "metadata": {
    "scrolled": true
   },
   "outputs": [],
   "source": [
    "# See column datatypes\n",
    "df_1.dtypes"
   ]
  },
  {
   "cell_type": "markdown",
   "id": "bb45c665-8306-4f7e-af16-eaa11e65f9ac",
   "metadata": {},
   "source": [
    "# 2. Preprocessing"
   ]
  },
  {
   "cell_type": "code",
   "execution_count": null,
   "id": "ee83eeb2-ae70-4d8b-8fce-e2926f7f2906",
   "metadata": {},
   "outputs": [],
   "source": [
    "cols = [\n",
    "    'BOUWJAAR_PAND',\n",
    "    'VLOEROPPERVLAK_VERBLIJFSOBJECT',\n",
    "    'age',\n",
    "    'electricity_annual_consumption_estimated_offpeak',\n",
    "    'electricity_annual_consumption_estimated_peak',\n",
    "    'electricity_annual_consumption_estimated_total',\n",
    "    'electricity_last_contract_annual_consumption_estimated_offpeak',\n",
    "    'electricity_last_contract_annual_consumption_estimated_peak',\n",
    "    'electricity_last_contract_annual_consumption_estimated_total',\n",
    "    'gas_annual_consumption_estimated',\n",
    "    'gas_last_contract_annual_consumption_estimated'\n",
    "]\n",
    "\n",
    "for col in cols:\n",
    "    if col in df_1.columns:\n",
    "        fill_val = df_1.iloc[:,df_1.columns.get_loc(col)].median()\n",
    "        df_1[col] = df_1.filter([col]).fillna(fill_val)"
   ]
  },
  {
   "cell_type": "code",
   "execution_count": null,
   "id": "29ef907e-d2e0-4d7f-8a64-5ab4d67e3feb",
   "metadata": {},
   "outputs": [],
   "source": [
    "# Check if numericals don't have missings\n",
    "df_1[cols].isna().sum()"
   ]
  },
  {
   "cell_type": "code",
   "execution_count": null,
   "id": "f4108128-9270-4d24-8e79-1f5b46407274",
   "metadata": {},
   "outputs": [],
   "source": [
    "from matplotlib.pyplot import figure, title, xlabel, ylabel, show\n",
    "import seaborn as sns\n",
    "\n",
    "def plot_cols(data, column):    \n",
    "    # Check if the column is numeric\n",
    "    if pd.api.types.is_numeric_dtype(data[column]):\n",
    "        # Display summary statistics\n",
    "        print(data[column].describe())\n",
    "\n",
    "        # Create a histogram\n",
    "        figure(figsize=(10, 6))\n",
    "        sns.histplot(data[column], kde=True, bins=20)\n",
    "        title(f'Histogram of {column}')\n",
    "        xlabel(column)\n",
    "        ylabel('Frequency')\n",
    "        show()\n",
    "\n",
    "        # Create a box plot\n",
    "        figure(figsize=(10, 6))\n",
    "        sns.boxplot(x=data[column])\n",
    "        title(f'Box Plot of {column}')\n",
    "        xlabel(column)\n",
    "        show()\n",
    "        \n",
    "    else:\n",
    "        print(f\"{column} is not a numeric column.\")"
   ]
  },
  {
   "cell_type": "code",
   "execution_count": null,
   "id": "9674ebad-8b75-4c44-bf4b-a6aa22b56b3d",
   "metadata": {},
   "outputs": [],
   "source": [
    "for col in cols:\n",
    "    plot_cols(df_1, col)"
   ]
  },
  {
   "cell_type": "code",
   "execution_count": null,
   "id": "fa3d7bdd-1b87-48bb-8020-b09ae27512c5",
   "metadata": {},
   "outputs": [],
   "source": [
    "df_1[['electricity_last_contract_term','province']] = df_1[['electricity_last_contract_term','province']].fillna(\"onbekend\")"
   ]
  },
  {
   "cell_type": "code",
   "execution_count": null,
   "id": "845e59c8-5f2d-4528-b0c3-75853b19e6d1",
   "metadata": {},
   "outputs": [],
   "source": [
    "# Check if categoricals don't have missings\n",
    "df_1[['electricity_last_contract_term','province']].isna().sum()"
   ]
  },
  {
   "cell_type": "code",
   "execution_count": null,
   "id": "9ca4e900-d174-425b-8c02-ec4c0680807e",
   "metadata": {},
   "outputs": [],
   "source": [
    "cols = [\n",
    "    'bought_toon',\n",
    "    'has_active_boiler_rent_contract',\n",
    "    'has_active_electricity_contract',\n",
    "    'has_phone_number'\n",
    "]\n",
    "\n",
    "for col in cols:\n",
    "    if col in df_1.columns:\n",
    "        fill_val = df_1.iloc[:,df_1.columns.get_loc(col)].mode().head()[0]\n",
    "        df_1[col] = df_1.filter([col]).fillna(fill_val)"
   ]
  },
  {
   "cell_type": "code",
   "execution_count": null,
   "id": "ad2031c6-da62-4738-becd-cb4953188f5e",
   "metadata": {},
   "outputs": [],
   "source": [
    "# Check if booleans don't have missings\n",
    "df_1[cols].isna().sum()"
   ]
  },
  {
   "cell_type": "code",
   "execution_count": null,
   "id": "1d5e125e-3a28-49e7-81d0-64dc05e652ef",
   "metadata": {},
   "outputs": [],
   "source": [
    "# Check if there still is any missing data\n",
    "df_1.isna().sum()"
   ]
  },
  {
   "cell_type": "markdown",
   "id": "069eea18-b563-4a4e-907d-2ab52cf8106b",
   "metadata": {},
   "source": [
    "# 3. Train"
   ]
  },
  {
   "cell_type": "code",
   "execution_count": null,
   "id": "21cdff95-46e5-4f66-9676-7100f59fa4ea",
   "metadata": {},
   "outputs": [],
   "source": [
    "# Import libraries\n",
    "from sklearn.model_selection import train_test_split\n",
    "from sklearn.linear_model import LogisticRegression\n",
    "from sklearn.metrics import accuracy_score, classification_report, confusion_matrix, ConfusionMatrixDisplay"
   ]
  },
  {
   "cell_type": "code",
   "execution_count": null,
   "id": "24556166-7a0f-49e7-a6c7-abeb79e711a5",
   "metadata": {},
   "outputs": [],
   "source": [
    "# Make dummies\n",
    "data = pd.get_dummies(df_1, columns=['electricity_last_contract_term','province'], drop_first=True)"
   ]
  },
  {
   "cell_type": "code",
   "execution_count": null,
   "id": "4bc44d97-1a7e-4143-b076-0c8d27450f7d",
   "metadata": {},
   "outputs": [],
   "source": [
    "# Seperate target variable\n",
    "X = data.drop('bought_toon', axis=1)\n",
    "y = data['bought_toon']"
   ]
  },
  {
   "cell_type": "code",
   "execution_count": null,
   "id": "dc096802-ef5f-47b2-8181-37fbd3ce8c16",
   "metadata": {},
   "outputs": [],
   "source": [
    "# Split the data into training and testing sets\n",
    "X_train, X_test, y_train, y_test = train_test_split(X, y, test_size=0.2) #, random_state=42)\n",
    "\n",
    "# Train a logistic regression model, set iterations high, because data is unscaled\n",
    "model = LogisticRegression(max_iter=10000, class_weight='balanced')\n",
    "model.fit(X_train, y_train)\n",
    "\n",
    "# Make predictions on the test set\n",
    "y_pred = model.predict(X_test)"
   ]
  },
  {
   "cell_type": "markdown",
   "id": "7355b8f7-4c7e-4720-99e2-5a02ef0c1e64",
   "metadata": {},
   "source": [
    "# 4. Evaluate"
   ]
  },
  {
   "cell_type": "code",
   "execution_count": null,
   "id": "6e198cb4-fcd1-4003-bdb6-73fe2ebbb527",
   "metadata": {},
   "outputs": [],
   "source": [
    "# Evaluate the model performance\n",
    "accuracy = accuracy_score(y_test, y_pred)\n",
    "conf_matrix_var = confusion_matrix(y_test, y_pred, labels=[False,  True])\n",
    "classification_rep = classification_report(y_test, y_pred, zero_division=1)\n",
    "\n",
    "print(f'Accuracy: {accuracy}')\n",
    "print('Classification Report:')\n",
    "print(classification_rep)\n",
    "print('Confusion Matrix:')\n",
    "disp = ConfusionMatrixDisplay(confusion_matrix=conf_matrix_var, display_labels=[False,  True])\n",
    "disp.plot()\n",
    "plt.show()"
   ]
  },
  {
   "cell_type": "code",
   "execution_count": null,
   "id": "a994e3c3-0e40-4a9e-a4ad-332d2ff00846",
   "metadata": {},
   "outputs": [],
   "source": [
    "import matplotlib.pyplot as plt"
   ]
  },
  {
   "cell_type": "code",
   "execution_count": null,
   "id": "e755f135-eb6e-4074-9b96-68e4fdd72d79",
   "metadata": {},
   "outputs": [],
   "source": [
    "# import pickle\n",
    "\n",
    "# Save the model to disk\n",
    "# os.chdir(\"../models\")\n",
    "# with open('logistic_regression_model_v3.pkl', 'wb') as file:\n",
    "#     pickle.dump(model, file)"
   ]
  },
  {
   "cell_type": "markdown",
   "id": "816d8db8-36d7-4df8-a20f-96ce237e18be",
   "metadata": {},
   "source": [
    "# 5. Predict"
   ]
  },
  {
   "cell_type": "code",
   "execution_count": null,
   "id": "000da2e6-64b0-4a4a-978e-7005388c490d",
   "metadata": {},
   "outputs": [],
   "source": [
    "# os.chdir(\"../models\") # UNCOMMENT THIS TO LOAD IN A SAVED MODEL (IF IT DOES NOT WORK IS SCIKIT SET TO RIGHT VERSION?)\n",
    "with open('logistic_regression_model_v4_FINAL_FINAL.pkl', 'rb') as file:\n",
    "    model = pickle.load(file)"
   ]
  },
  {
   "cell_type": "code",
   "execution_count": null,
   "id": "a1b3c88d-dfc6-4cc4-95f2-7f5adc322047",
   "metadata": {},
   "outputs": [],
   "source": [
    "# os.chdir(\"../data\") # UNCOMMENT THIS TO LOAD IN RAW DATA\n",
    "df_1_raw = pd.read_csv('data_set.csv')"
   ]
  },
  {
   "cell_type": "code",
   "execution_count": null,
   "id": "4a8a0f05-76c7-4352-b379-cd23e6ff7ee0",
   "metadata": {},
   "outputs": [],
   "source": [
    "# Get list of customer ID's\n",
    "customers = df_1_raw[df_1_raw['bought_toon'] == False][['Unnamed: 0']]"
   ]
  },
  {
   "cell_type": "code",
   "execution_count": null,
   "id": "39a90509-6994-4c7b-8717-ad1e9a3e5aff",
   "metadata": {},
   "outputs": [],
   "source": [
    "# Get model predictions\n",
    "prediction_prospect = model.predict(data[data['bought_toon']==False].drop('bought_toon', axis=1))\n",
    "prediction_probability = model.predict_proba(data[data['bought_toon']==False].drop('bought_toon', axis=1))"
   ]
  },
  {
   "cell_type": "code",
   "execution_count": null,
   "id": "5dc5f54f-0051-4734-bd6c-d43a973b4608",
   "metadata": {},
   "outputs": [],
   "source": [
    "# Putting results together\n",
    "from pandas import DataFrame\n",
    "\n",
    "prospects = DataFrame(prediction_prospect, columns=['possible_prospect']) \n",
    "chances = DataFrame(prediction_probability, columns=['reject_toon_chance','buy_toon_chance'])\n",
    "\n",
    "list_for_marketing = pd.concat([customers.reset_index(drop=True), \n",
    "        prospects.reset_index(drop=True),\n",
    "        chances.reset_index(drop=True)],\n",
    "        axis=1) \\\n",
    "        .rename(columns={\"Unnamed: 0\": \"customer_id\"}) \\\n",
    "        .sort_values(['buy_toon_chance', 'reject_toon_chance'],\n",
    "              ascending = [False, True])"
   ]
  },
  {
   "cell_type": "code",
   "execution_count": null,
   "id": "1f533759-8c4c-424e-830f-297a25c4ef89",
   "metadata": {},
   "outputs": [],
   "source": [
    "# Peek at list for marketing\n",
    "list_for_marketing"
   ]
  }
 ],
 "metadata": {
  "kernelspec": {
   "display_name": "assessment-venv",
   "language": "python",
   "name": "assessment-venv"
  },
  "language_info": {
   "codemirror_mode": {
    "name": "ipython",
    "version": 3
   },
   "file_extension": ".py",
   "mimetype": "text/x-python",
   "name": "python",
   "nbconvert_exporter": "python",
   "pygments_lexer": "ipython3",
   "version": "3.8.18"
  }
 },
 "nbformat": 4,
 "nbformat_minor": 5
}
